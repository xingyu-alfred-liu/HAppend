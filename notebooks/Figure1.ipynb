{
 "cells": [
  {
   "cell_type": "code",
   "execution_count": 8,
   "id": "75f419e3",
   "metadata": {},
   "outputs": [],
   "source": [
    "import os\n",
    "import json\n",
    "from pymatgen.core import Lattice, Structure, Molecule\n",
    "import matplotlib.pyplot as plt\n",
    "import numpy as np"
   ]
  },
  {
   "cell_type": "code",
   "execution_count": 12,
   "id": "55258baa",
   "metadata": {
    "scrolled": true
   },
   "outputs": [
    {
     "name": "stdout",
     "output_type": "stream",
     "text": [
      "Smallest molecule: 12\n",
      "Name of smallest molecule: ['BENZEN.json']\n",
      "\n",
      "Largest molecule: 136\n",
      "Name of largest molecule: ['KECLAH.json' 'TAYSUJ.json' 'VEBJAO.json']\n",
      "\n",
      "Smallest unit cell size: 44\n",
      "Name of smallest unit cell: ['BIPHEN.json']\n",
      "\n",
      "Largest unit cell size: 544\n",
      "Name of largest unit cell: ['VEBJAO.json']\n"
     ]
    }
   ],
   "source": [
    "# data\n",
    "molecule_size = []\n",
    "unit_cell_size = []\n",
    "csd_id = []\n",
    "filelist = np.array(os.listdir(\"../data\"))\n",
    "for n in filelist:\n",
    "    csd_id.append(n.split(\".\")[0])\n",
    "    with open(os.path.join(\"../data\", n), \"r\") as f:\n",
    "        data = json.load(f)\n",
    "    mol = Molecule.from_dict(data[\"geometry\"][\"molecule\"])\n",
    "    struct = Structure.from_dict(data[\"geometry\"][\"relaxed_crystal\"])\n",
    "    molecule_size.append(len(mol))\n",
    "    unit_cell_size.append(len(struct))\n",
    "molecule_size = np.array(molecule_size)\n",
    "unit_cell_size = np.array(unit_cell_size)\n",
    "print(f\"Smallest molecule: {min(molecule_size)}\")\n",
    "print(f\"Name of smallest molecule: {filelist[np.where(molecule_size == min(molecule_size))[0]]}\")\n",
    "print()\n",
    "print(f\"Largest molecule: {max(molecule_size)}\")\n",
    "print(f\"Name of largest molecule: {filelist[np.where(molecule_size == max(molecule_size))[0]]}\")\n",
    "print()\n",
    "print(f\"Smallest unit cell size: {min(unit_cell_size)}\")\n",
    "print(f\"Name of smallest unit cell: {filelist[np.where(unit_cell_size == min(unit_cell_size))[0]]}\")\n",
    "print()\n",
    "print(f\"Largest unit cell size: {max(unit_cell_size)}\")\n",
    "print(f\"Name of largest unit cell: {filelist[np.where(unit_cell_size == max(unit_cell_size))[0]]}\")"
   ]
  },
  {
   "cell_type": "code",
   "execution_count": 73,
   "id": "a2298fc2",
   "metadata": {},
   "outputs": [
    {
     "data": {
      "image/png": "[encoded data removed]",
      "text/plain": [
       "<Figure size 1040x400 with 2 Axes>"
      ]
     },
     "metadata": {},
     "output_type": "display_data"
    }
   ],
   "source": [
    "# make the plot\n",
    "fig = plt.figure(num=None, figsize=(13, 5), dpi=80, facecolor='w', edgecolor='k', frameon=False)\n",
    "plt.tight_layout()\n",
    "plt.subplot(121)\n",
    "plt.hist(molecule_size, bins=18, color=\"r\", rwidth=0.8)\n",
    "plt.xlabel(\"Number of Atoms per Molecule\", size=16)\n",
    "plt.xlim([0, 140])\n",
    "plt.ylim([0, 20])\n",
    "plt.xticks(size=14)\n",
    "plt.yticks([i*2 for i in range(11)], [str(i*2) for i in range(11)], size=14)\n",
    "\n",
    "plt.subplot(122)\n",
    "plt.hist(unit_cell_size, bins=18, color=\"b\", rwidth=0.8)\n",
    "plt.xlabel(\"Number of Atoms per Unit Cell\", size=16)\n",
    "plt.xlim([0, 600])\n",
    "plt.ylim([0, 20])\n",
    "plt.xticks(size=14)\n",
    "plt.yticks([i*2 for i in range(11)], [str(i*2) for i in range(11)], size=14)\n",
    "\n",
    "plt.subplots_adjust(bottom=0.15, wspace=0.095)\n",
    "plt.show()"
   ]
  },
  {
   "cell_type": "code",
   "execution_count": 74,
   "id": "eae937bd",
   "metadata": {},
   "outputs": [],
   "source": [
    "fig.savefig(\"figure1_distribution.png\", dpi=300, bbox_inches='tight', transparent=False)"
   ]
  },
  {
   "cell_type": "code",
   "execution_count": null,
   "id": "cdf859e1",
   "metadata": {},
   "outputs": [],
   "source": []
  }
 ],
 "metadata": {
  "kernelspec": {
   "display_name": "Python 3 (ipykernel)",
   "language": "python",
   "name": "python3"
  },
  "language_info": {
   "codemirror_mode": {
    "name": "ipython",
    "version": 3
   },
   "file_extension": ".py",
   "mimetype": "text/x-python",
   "name": "python",
   "nbconvert_exporter": "python",
   "pygments_lexer": "ipython3",
   "version": "3.8.0"
  }
 },
 "nbformat": 4,
 "nbformat_minor": 5
}
